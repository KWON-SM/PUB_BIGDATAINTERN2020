{
 "cells": [
  {
   "cell_type": "markdown",
   "metadata": {},
   "source": [
    "## 형태소 분석 & 워드클라우드"
   ]
  },
  {
   "cell_type": "code",
   "execution_count": null,
   "metadata": {
    "scrolled": true
   },
   "outputs": [],
   "source": [
    "# !pip install JPype1\n",
    "# !pip install konlpy"
   ]
  },
  {
   "cell_type": "code",
   "execution_count": null,
   "metadata": {},
   "outputs": [],
   "source": [
    "from konlpy.tag import Okt, Kkma, Komoran, Hannanum"
   ]
  },
  {
   "cell_type": "code",
   "execution_count": null,
   "metadata": {},
   "outputs": [],
   "source": [
    "# tagger = Kkma()\n",
    "# tagger = Komoran()\n",
    "# tagger = Hannanum()\n",
    "tagger = Okt()"
   ]
  },
  {
   "cell_type": "code",
   "execution_count": null,
   "metadata": {},
   "outputs": [],
   "source": [
    "import pandas as pd \n",
    "gg = pd.read_excel('./6월.xlsx')\n",
    "gg.head()"
   ]
  },
  {
   "cell_type": "code",
   "execution_count": null,
   "metadata": {
    "scrolled": true
   },
   "outputs": [],
   "source": [
    "# titile list 한개의 list로 조인\n",
    "title = gg.title\n",
    "title_lst=list(title)\n",
    "title\n",
    "title_1 = ' '.join(title)\n",
    "title_1"
   ]
  },
  {
   "cell_type": "code",
   "execution_count": null,
   "metadata": {
    "scrolled": true
   },
   "outputs": [],
   "source": [
    "# 특수문자\n",
    "import re\n",
    "import string\n",
    "\n",
    "body = []\n",
    "punc = '[!\"“”‘’#$%&\\'()*+,-/:;<=>?[\\\\]^_`{|}…~·‥]'  # 특수문자 추가하기\n",
    "body.append(title_1 )\n",
    "full_body = re.sub(punc,'',title_1)\n",
    "full_body"
   ]
  },
  {
   "cell_type": "code",
   "execution_count": null,
   "metadata": {
    "scrolled": true
   },
   "outputs": [],
   "source": [
    "# morphs: 형태소 분류\n",
    "mor = tagger.morphs(full_body)\n",
    "\n",
    "# nouns : 명사 분류\n",
    "nouns = tagger.nouns(full_body)"
   ]
  },
  {
   "cell_type": "code",
   "execution_count": null,
   "metadata": {
    "scrolled": true
   },
   "outputs": [],
   "source": [
    "#빈도수 상위 100개\n",
    "from collections import Counter\n",
    "count = Counter(nouns)\n",
    "nouns_list = count.most_common(100)\n",
    "nouns_list"
   ]
  },
  {
   "cell_type": "markdown",
   "metadata": {},
   "source": [
    "# 워드클라우드"
   ]
  },
  {
   "cell_type": "code",
   "execution_count": null,
   "metadata": {},
   "outputs": [],
   "source": [
    "import sys\n",
    "from wordcloud import WordCloud\n",
    "\n",
    "filename = sys.argv[1]\n",
    "\n",
    "#font_path 설정 : font의 위치\n",
    "wc = WordCloud(font_path='c:/Windows/Fonts/malgun.ttf',\\\n",
    "              background_color=\"white\",\\\n",
    "              width=1000,\\\n",
    "              height=1000,\\\n",
    "              max_words=200,\\\n",
    "              max_font_size=300\n",
    "              )"
   ]
  },
  {
   "cell_type": "code",
   "execution_count": null,
   "metadata": {},
   "outputs": [],
   "source": [
    "# 이미지 다운\n",
    "wc.generate_from_frequencies(dict(nouns_list))\n",
    "wc.to_file('wordcloud.png')"
   ]
  },
  {
   "cell_type": "code",
   "execution_count": null,
   "metadata": {},
   "outputs": [],
   "source": []
  }
 ],
 "metadata": {
  "kernelspec": {
   "display_name": "Python 3",
   "language": "python",
   "name": "python3"
  },
  "language_info": {
   "codemirror_mode": {
    "name": "ipython",
    "version": 3
   },
   "file_extension": ".py",
   "mimetype": "text/x-python",
   "name": "python",
   "nbconvert_exporter": "python",
   "pygments_lexer": "ipython3",
   "version": "3.7.6"
  }
 },
 "nbformat": 4,
 "nbformat_minor": 4
}
