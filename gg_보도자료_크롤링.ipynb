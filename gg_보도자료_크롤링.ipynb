{
 "cells": [
  {
   "cell_type": "markdown",
   "metadata": {},
   "source": [
    "## 경기도 보도자료 크롤링"
   ]
  },
  {
   "cell_type": "code",
   "execution_count": 1,
   "metadata": {},
   "outputs": [],
   "source": [
    "import requests\n",
    "import lxml.html\n",
    "import pandas as pd\n",
    "import sqlite3\n",
    "from pandas.io import sql\n",
    "import os"
   ]
  },
  {
   "cell_type": "code",
   "execution_count": 2,
   "metadata": {},
   "outputs": [],
   "source": [
    "#DB에 저장하기\n",
    "def db_save(KYONGGI_LIST):\n",
    "    with sqlite3.connect(os.path.join('.','sqliteDB')) as con: # sqlite DB 파일이 존재하지 않는 경우 파일생성\n",
    "        try:\n",
    "            KYONGGI_LIST.to_sql(name = 'KYONGGI_LIST', con = con, index = False, if_exists='append') \n",
    "            #if_exists : {'fail', 'replace', 'append'} default : fail\n",
    "        except Exception as e:\n",
    "            print(str(e))\n",
    "        print(len(KYONGGI_LIST), '건 저장완료..')"
   ]
  },
  {
   "cell_type": "code",
   "execution_count": 8,
   "metadata": {
    "scrolled": true
   },
   "outputs": [
    {
     "name": "stdout",
     "output_type": "stream",
     "text": [
      "10 건 저장완료..\n",
      "10 건 저장완료..\n"
     ]
    }
   ],
   "source": [
    "page = 10  # 시작 페이지\n",
    "end_page = 15 # 끝날 페이지\n",
    "\n",
    "while(True):\n",
    "    df_list = []\n",
    "    response = requests.get('https://gnews.gg.go.kr/briefing/brief_gongbo.do?page={}&BS_CODE=s017&period_1=&period_2=&search=0&keyword=&subject_Code=BO01'\\\n",
    "                            .format(page))\n",
    "    root = lxml.html.fromstring(response.content)\n",
    "    for tr in root.xpath('//*[@id=\"chk-table\"]/tbody/tr'):\n",
    "            a = tr.xpath('td[2]/a')[0] \n",
    "            url = ('https://gnews.gg.go.kr/' + a.get('href'))\n",
    "            dep = tr.xpath('td[3]')[0]\n",
    "            date = tr.xpath('td[5]')[0]\n",
    "            view =  tr.xpath('td[6]')[0]\n",
    "            df_list.append(\n",
    "                pd.DataFrame({\n",
    " \n",
    "                 'url' : [url],\n",
    "                 'title' : [a.text],\n",
    "                 'dept'  :  [dep.text],\n",
    "                 'reg_date' : [date.text.strip()],\n",
    "                 'view' : [view.text],    \n",
    "            })\n",
    "            )\n",
    "    \n",
    "    df_10 = pd.concat(df_list)\n",
    "    \n",
    "    db_save(df_10)\n",
    "    \n",
    "\n",
    "    if  page >= end_page:\n",
    "        break;\n",
    "    else:\n",
    "        page = page + 1\n",
    "    "
   ]
  },
  {
   "cell_type": "code",
   "execution_count": 9,
   "metadata": {},
   "outputs": [],
   "source": [
    "# 데이터 출력\n",
    "def db_select():\n",
    "    with sqlite3.connect(os.path.join('.','sqliteDB')) as con: # sqlite DB 파일이 존재하지 않는 경우 파일생성\n",
    "        try:\n",
    "            query = 'SELECT * FROM KYONGGI_LIST'\n",
    "            KYONGGI_LIST = pd.read_sql(query, con = con)\n",
    "        except Exception as e:\n",
    "            print(str(e)) \n",
    "        return KYONGGI_LIST\n",
    "db_select()    "
   ]
  },
  {
   "cell_type": "code",
   "execution_count": 7,
   "metadata": {},
   "outputs": [],
   "source": [
    "# DB데이터 삭제\n",
    "def db_delete():\n",
    "    with sqlite3.connect(os.path.join('.','sqliteDB')) as con: # sqlite DB 파일이 존재하지 않는 경우 파일생성\n",
    "        try:\n",
    "            cur = con.cursor()\n",
    "            sql = 'DELETE FROM KYONGGI_LIST'\n",
    "            cur.execute(sql)\n",
    "        except Exception as e:\n",
    "            print(str(e))\n",
    "db_delete()"
   ]
  },
  {
   "cell_type": "code",
   "execution_count": null,
   "metadata": {},
   "outputs": [],
   "source": [
    "#DB 삭제\n",
    "def db_DROP():\n",
    "    with sqlite3.connect(os.path.join('.','sqliteDB')) as con: # sqlite DB 파일이 존재하지 않는 경우 파일생성\n",
    "        try:\n",
    "            cur = con.cursor()\n",
    "            sql = 'DROP TABLE KYONGGI_LIST'\n",
    "            cur.execute(sql)\n",
    "        except Exception as e:\n",
    "            print(str(e))\n",
    "db_DROP()          "
   ]
  },
  {
   "cell_type": "code",
   "execution_count": null,
   "metadata": {},
   "outputs": [],
   "source": [
    "#EXCEL에 저장\n",
    "KYONGGI_LIST = db_select()\n",
    "\n",
    "def save_excel(KYONGGI_LIST):\n",
    "    excel = pd.ExcelWriter('경기도보도자료.xlsx')\n",
    "    KYONGGI_LIST.to_excel(excel,'.',index=False)\n",
    "    excel.save()\n",
    "    \n",
    "save_excel(KYONGGI_LIST)"
   ]
  }
 ],
 "metadata": {
  "kernelspec": {
   "display_name": "Python 3",
   "language": "python",
   "name": "python3"
  },
  "language_info": {
   "codemirror_mode": {
    "name": "ipython",
    "version": 3
   },
   "file_extension": ".py",
   "mimetype": "text/x-python",
   "name": "python",
   "nbconvert_exporter": "python",
   "pygments_lexer": "ipython3",
   "version": "3.7.6"
  }
 },
 "nbformat": 4,
 "nbformat_minor": 4
}
